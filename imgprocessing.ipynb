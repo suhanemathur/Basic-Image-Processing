{
 "cells": [
  {
   "cell_type": "code",
   "execution_count": 1,
   "metadata": {},
   "outputs": [],
   "source": [
    "from pdf2image import convert_from_path"
   ]
  },
  {
   "cell_type": "code",
   "execution_count": 158,
   "metadata": {},
   "outputs": [],
   "source": [
    "#to extract all the images and store them in pages array\n",
    "pdf_file = \"19032019107327.pdf\"\n",
    "pfile=pdf_file.split(\".\")\n",
    "pages = convert_from_path(pdf_file, poppler_path = r\"C:/Users/acer/Desktop/poppler-0.68.0/bin\")"
   ]
  },
  {
   "cell_type": "code",
   "execution_count": 164,
   "metadata": {},
   "outputs": [],
   "source": [
    "#p is the desired page we want from the pdf\n",
    "p=30\n",
    "pp=p-1\n",
    "pages[pp].save(r'output'+str(p)+ pfile[0]+\".jpg\", 'JPEG')"
   ]
  },
  {
   "cell_type": "code",
   "execution_count": 8,
   "metadata": {},
   "outputs": [
    {
     "name": "stdout",
     "output_type": "stream",
     "text": [
      "1653\n",
      "2339\n",
      "(1000, 1400)\n",
      "(1000, 1400)\n",
      "(1000, 1400)\n",
      "(1000, 1400)\n",
      "(1000, 1400)\n",
      "(1000, 1400)\n",
      "(1000, 1400)\n",
      "(1000, 1400)\n",
      "(1000, 1400)\n",
      "(1000, 1400)\n",
      "(1000, 1400)\n",
      "(1000, 1400)\n",
      "(1000, 1400)\n",
      "(1000, 1400)\n",
      "(1000, 1400)\n",
      "(1000, 1400)\n",
      "(1000, 1400)\n",
      "(1000, 1400)\n",
      "(1000, 1400)\n",
      "(1000, 1400)\n",
      "(1000, 1400)\n",
      "(1000, 1400)\n",
      "(1000, 1400)\n",
      "(1000, 1400)\n",
      "(1000, 1400)\n",
      "(1000, 1400)\n"
     ]
    }
   ],
   "source": [
    "# TASK- to extract all the pages from the file, save it as images and crop to get the middle part\n",
    "\n",
    "from pdf2image import convert_from_path\n",
    "pdf_file=\"01012021100742.pdf\"\n",
    "pages=convert_from_path(pdf_file, poppler_path=\"C:/Users/acer/Desktop/poppler-0.68.0/bin\")\n",
    "#all pages saved in a page list\n",
    "\n",
    "#getting the dimensions pf the page\n",
    "(height, width) = pages[1].size\n",
    "print(height)\n",
    "print(width)\n",
    "\n",
    "crop_width = 1000  # The desired width of the cropped portion\n",
    "crop_height = 1400  # The desired height of the cropped portion\n",
    "\n",
    "#setting rop dimensions\n",
    "left = (width - crop_width) // 2\n",
    "top = (height - crop_height) // 2\n",
    "right = left + crop_width\n",
    "bottom = top + crop_height\n",
    "pagesout=[]\n",
    "#looping over all the images and performing image operations\n",
    "for pg,img in enumerate(pages):\n",
    "    im = pages[pg].crop((left, top, right, bottom))\n",
    "    print(im.size)\n",
    "    pagesout.append(im)\n",
    "# im[0].save(\"outputcropped.pdf\",pdf)\n",
    "\n"
   ]
  },
  {
   "cell_type": "code",
   "execution_count": 7,
   "metadata": {},
   "outputs": [
    {
     "data": {
      "text/plain": [
       "[<PIL.PpmImagePlugin.PpmImageFile image mode=RGB size=1653x2339>,\n",
       " <PIL.PpmImagePlugin.PpmImageFile image mode=RGB size=1653x2339>,\n",
       " <PIL.PpmImagePlugin.PpmImageFile image mode=RGB size=1653x2339>,\n",
       " <PIL.PpmImagePlugin.PpmImageFile image mode=RGB size=1653x2339>,\n",
       " <PIL.PpmImagePlugin.PpmImageFile image mode=RGB size=1653x2339>,\n",
       " <PIL.PpmImagePlugin.PpmImageFile image mode=RGB size=1653x2339>,\n",
       " <PIL.PpmImagePlugin.PpmImageFile image mode=RGB size=1653x2339>,\n",
       " <PIL.PpmImagePlugin.PpmImageFile image mode=RGB size=1653x2339>,\n",
       " <PIL.PpmImagePlugin.PpmImageFile image mode=RGB size=1653x2339>,\n",
       " <PIL.PpmImagePlugin.PpmImageFile image mode=RGB size=1653x2339>,\n",
       " <PIL.PpmImagePlugin.PpmImageFile image mode=RGB size=1653x2339>,\n",
       " <PIL.PpmImagePlugin.PpmImageFile image mode=RGB size=1653x2339>,\n",
       " <PIL.PpmImagePlugin.PpmImageFile image mode=RGB size=1653x2339>,\n",
       " <PIL.PpmImagePlugin.PpmImageFile image mode=RGB size=1653x2339>,\n",
       " <PIL.PpmImagePlugin.PpmImageFile image mode=RGB size=1653x2339>,\n",
       " <PIL.PpmImagePlugin.PpmImageFile image mode=RGB size=1653x2339>,\n",
       " <PIL.PpmImagePlugin.PpmImageFile image mode=RGB size=1653x2339>,\n",
       " <PIL.PpmImagePlugin.PpmImageFile image mode=RGB size=1653x2339>,\n",
       " <PIL.PpmImagePlugin.PpmImageFile image mode=RGB size=1653x2339>,\n",
       " <PIL.PpmImagePlugin.PpmImageFile image mode=RGB size=1653x2339>,\n",
       " <PIL.PpmImagePlugin.PpmImageFile image mode=RGB size=1653x2339>,\n",
       " <PIL.PpmImagePlugin.PpmImageFile image mode=RGB size=1653x2339>,\n",
       " <PIL.PpmImagePlugin.PpmImageFile image mode=RGB size=1653x2339>,\n",
       " <PIL.PpmImagePlugin.PpmImageFile image mode=RGB size=1653x2339>,\n",
       " <PIL.PpmImagePlugin.PpmImageFile image mode=RGB size=1653x2339>,\n",
       " <PIL.PpmImagePlugin.PpmImageFile image mode=RGB size=1653x2339>]"
      ]
     },
     "execution_count": 7,
     "metadata": {},
     "output_type": "execute_result"
    }
   ],
   "source": [
    "pages"
   ]
  },
  {
   "cell_type": "code",
   "execution_count": 1,
   "metadata": {},
   "outputs": [],
   "source": [
    "#same task using threading \n",
    "\n",
    "from pdf2image import convert_from_path\n",
    "from threading import Thread\n",
    "\n",
    "def crop_and_save_image(img, image_number):\n",
    "    # Getting the dimensions of the page\n",
    "    (height, width) = img.size\n",
    "\n",
    "    # Setting crop dimensions\n",
    "    crop_width = 1000  # The desired width of the cropped portion\n",
    "    crop_height = 1400  # The desired height of the cropped portion\n",
    "    left = (width - crop_width) // 2\n",
    "    top = (height - crop_height) // 2\n",
    "    right = left + crop_width\n",
    "    bottom = top + crop_height\n",
    "\n",
    "    # Cropping and saving the image\n",
    "    cropped_image = img.crop((left, top, right, bottom))\n",
    "    # cropped_image.save(\"cropped_image{}.jpg\".format(image_number), \"JPEG\")\n",
    "    return cropped_image\n",
    "\n",
    "def process_pages(pages):\n",
    "    # Create a list to hold the threads\n",
    "    threads = []\n",
    "\n",
    "    # Process each page in a separate thread\n",
    "    for pg, img in enumerate(pages):\n",
    "        thread = Thread(target=crop_and_save_image, args=(img, pg + 1))\n",
    "        thread.start()\n",
    "        threads.append(thread)\n",
    "\n",
    "    # Wait for all threads to complete\n",
    "    for thread in threads:\n",
    "        thread.join()\n",
    "\n",
    "# Convert PDF to images\n",
    "pdf_file = \"01012021100742.pdf\"\n",
    "pages = convert_from_path(pdf_file, poppler_path=\"C:/Users/acer/Desktop/poppler-0.68.0/bin\")\n",
    "\n",
    "# Process pages concurrently\n",
    "process_pages(pages)\n"
   ]
  },
  {
   "cell_type": "code",
   "execution_count": null,
   "metadata": {},
   "outputs": [],
   "source": []
  },
  {
   "cell_type": "code",
   "execution_count": 2,
   "metadata": {},
   "outputs": [
    {
     "data": {
      "text/plain": [
       "threading.Thread"
      ]
     },
     "execution_count": 2,
     "metadata": {},
     "output_type": "execute_result"
    }
   ],
   "source": [
    "Thread"
   ]
  },
  {
   "cell_type": "code",
   "execution_count": 3,
   "metadata": {},
   "outputs": [
    {
     "data": {
      "text/plain": [
       "[<PIL.PpmImagePlugin.PpmImageFile image mode=RGB size=1653x2339>,\n",
       " <PIL.PpmImagePlugin.PpmImageFile image mode=RGB size=1653x2339>,\n",
       " <PIL.PpmImagePlugin.PpmImageFile image mode=RGB size=1653x2339>,\n",
       " <PIL.PpmImagePlugin.PpmImageFile image mode=RGB size=1653x2339>,\n",
       " <PIL.PpmImagePlugin.PpmImageFile image mode=RGB size=1653x2339>,\n",
       " <PIL.PpmImagePlugin.PpmImageFile image mode=RGB size=1653x2339>,\n",
       " <PIL.PpmImagePlugin.PpmImageFile image mode=RGB size=1653x2339>,\n",
       " <PIL.PpmImagePlugin.PpmImageFile image mode=RGB size=1653x2339>,\n",
       " <PIL.PpmImagePlugin.PpmImageFile image mode=RGB size=1653x2339>,\n",
       " <PIL.PpmImagePlugin.PpmImageFile image mode=RGB size=1653x2339>,\n",
       " <PIL.PpmImagePlugin.PpmImageFile image mode=RGB size=1653x2339>,\n",
       " <PIL.PpmImagePlugin.PpmImageFile image mode=RGB size=1653x2339>,\n",
       " <PIL.PpmImagePlugin.PpmImageFile image mode=RGB size=1653x2339>,\n",
       " <PIL.PpmImagePlugin.PpmImageFile image mode=RGB size=1653x2339>,\n",
       " <PIL.PpmImagePlugin.PpmImageFile image mode=RGB size=1653x2339>,\n",
       " <PIL.PpmImagePlugin.PpmImageFile image mode=RGB size=1653x2339>,\n",
       " <PIL.PpmImagePlugin.PpmImageFile image mode=RGB size=1653x2339>,\n",
       " <PIL.PpmImagePlugin.PpmImageFile image mode=RGB size=1653x2339>,\n",
       " <PIL.PpmImagePlugin.PpmImageFile image mode=RGB size=1653x2339>,\n",
       " <PIL.PpmImagePlugin.PpmImageFile image mode=RGB size=1653x2339>,\n",
       " <PIL.PpmImagePlugin.PpmImageFile image mode=RGB size=1653x2339>,\n",
       " <PIL.PpmImagePlugin.PpmImageFile image mode=RGB size=1653x2339>,\n",
       " <PIL.PpmImagePlugin.PpmImageFile image mode=RGB size=1653x2339>,\n",
       " <PIL.PpmImagePlugin.PpmImageFile image mode=RGB size=1653x2339>,\n",
       " <PIL.PpmImagePlugin.PpmImageFile image mode=RGB size=1653x2339>,\n",
       " <PIL.PpmImagePlugin.PpmImageFile image mode=RGB size=1653x2339>]"
      ]
     },
     "execution_count": 3,
     "metadata": {},
     "output_type": "execute_result"
    }
   ],
   "source": [
    "pages"
   ]
  },
  {
   "cell_type": "code",
   "execution_count": 4,
   "metadata": {},
   "outputs": [],
   "source": [
    "#using threaading when fn is not saving any image and returning it instead\n",
    "\n",
    "from pdf2image import convert_from_path\n",
    "from threading import Thread\n",
    "\n",
    "def crop_and_save_image(img, image_number):\n",
    "    # Getting the dimensions of the page\n",
    "    (height, width) = img.size\n",
    "\n",
    "    # Setting crop dimensions\n",
    "    crop_width = 1000  # The desired width of the cropped portion\n",
    "    crop_height = 1400  # The desired height of the cropped portion\n",
    "    left = (width - crop_width) // 2\n",
    "    top = (height - crop_height) // 2\n",
    "    right = left + crop_width\n",
    "    bottom = top + crop_height\n",
    "\n",
    "    # Cropping and saving the image\n",
    "    cropped_image = img.crop((left, top, right, bottom))\n",
    "    # cropped_image.save(\"cropped_image{}.jpg\".format(image_number), \"JPEG\")\n",
    "    return cropped_image\n",
    "\n",
    "def process_pages(pages):\n",
    "    # Create a list to hold the cropped images\n",
    "    cropped_images = []\n",
    "\n",
    "    # Create a list to hold the threads\n",
    "    threads = []\n",
    "\n",
    "    # Process each page in a separate thread\n",
    "    for pg, img in enumerate(pages):\n",
    "        thread = Thread(target=lambda: cropped_images.append(crop_and_save_image(img, pg + 1)))\n",
    "        thread.start()\n",
    "        threads.append(thread)\n",
    "\n",
    "    # Wait for all threads to complete\n",
    "    for thread in threads:\n",
    "        thread.join()\n",
    "\n",
    "    return cropped_images\n",
    "\n",
    "# Convert PDF to images\n",
    "pdf_file = \"01012021100742.pdf\"\n",
    "pages = convert_from_path(pdf_file, poppler_path=\"C:/Users/acer/Desktop/poppler-0.68.0/bin\")\n",
    "\n",
    "# Process pages concurrently and get the cropped images\n",
    "cropped_images = process_pages(pages)\n",
    "\n",
    "# Access the cropped images for further processing or display\n",
    "# Example: Save the cropped images to disk\n",
    "for image_number, image in enumerate(cropped_images):\n",
    "    image.save(\"cropped_image{}.jpg\".format(image_number + 1), \"JPEG\")\n"
   ]
  }
 ],
 "metadata": {
  "kernelspec": {
   "display_name": "base",
   "language": "python",
   "name": "python3"
  },
  "language_info": {
   "codemirror_mode": {
    "name": "ipython",
    "version": 3
   },
   "file_extension": ".py",
   "mimetype": "text/x-python",
   "name": "python",
   "nbconvert_exporter": "python",
   "pygments_lexer": "ipython3",
   "version": "3.7.7"
  },
  "orig_nbformat": 4
 },
 "nbformat": 4,
 "nbformat_minor": 2
}
